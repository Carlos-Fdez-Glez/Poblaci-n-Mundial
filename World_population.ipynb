{
 "cells": [
  {
   "cell_type": "markdown",
   "id": "8e0cb602",
   "metadata": {},
   "source": [
    "# Variación de la población mundial en las últimas décadas\n",
    "### Proyecto realizado por Carlos Fernández González"
   ]
  },
  {
   "cell_type": "markdown",
   "id": "78cdce88",
   "metadata": {},
   "source": [
    "El punto de partida es una tabla que compara la población de la mayoría de países en los años 1980, 1990, 2000, 2010 y 2022. También incluye el continente al que pertenece dicho país y el puesto que tiene en la lista.\n",
    "\n",
    "Comenzaremos importando una serie de módulos:"
   ]
  },
  {
   "cell_type": "code",
   "execution_count": 1,
   "id": "c6017be2",
   "metadata": {},
   "outputs": [],
   "source": [
    "import csv\n",
    "import math\n",
    "import matplotlib"
   ]
  },
  {
   "cell_type": "markdown",
   "id": "2ea53af1",
   "metadata": {},
   "source": [
    "### FUNCIÓN DE LECTURA DEL ARCHIVO CSV"
   ]
  },
  {
   "cell_type": "code",
   "execution_count": 2,
   "id": "45159745",
   "metadata": {},
   "outputs": [],
   "source": [
    "def lee_poblacion(fichero):\n",
    "    '''\n",
    "    Lee el archivo csv y devuelve una lista de tuplas.\n",
    "    Todos los datos de entrada son de tipo str.\n",
    "    Convierte los datos relativos a la población en enteros (int).\n",
    "    \n",
    "    '''\n",
    "    with open (\"world_population_datas.csv\", encoding= 'utf-8') as f:\n",
    "        lector = csv.reader(f)\n",
    "        for linea in f:\n",
    "            poblacion = [(Rank, Country, Continent, int(_2022_Population), int(_2010_Population), int(_2000_Population), int(_1990_Population), int(_1980_Population)) for Rank, Country, Continent, _2022_Population, _2010_Population, _2000_Population, _1990_Population, _1980_Population in lector]\n",
    "        return poblacion"
   ]
  },
  {
   "cell_type": "code",
   "execution_count": 3,
   "id": "8c8f135f",
   "metadata": {
    "collapsed": true
   },
   "outputs": [
    {
     "name": "stdout",
     "output_type": "stream",
     "text": [
      "[('36', 'Afghanistan', 'Asia', 41128771, 28189672, 19542982, 10694796, 12486631), ('138', 'Albania', 'Europe', 2842321, 2913399, 3182021, 3295066, 2941651), ('34', 'Algeria', 'Africa', 44903225, 35856344, 30774621, 25518074, 18739378), ('213', 'American Samoa', 'Oceania', 44273, 54849, 58230, 47818, 32886), ('203', 'Andorra', 'Europe', 79824, 71519, 66097, 53569, 35611), ('42', 'Angola', 'Africa', 35588987, 23364185, 16394062, 11828638, 8330047), ('224', 'Anguilla', 'North America', 15857, 13172, 11047, 8316, 6560), ('201', 'Antigua and Barbuda', 'North America', 93763, 85695, 75055, 63328, 64888), ('33', 'Argentina', 'South America', 45510318, 41100123, 37070774, 32637657, 28024803), ('140', 'Armenia', 'Asia', 2780469, 2946293, 3168523, 3556539, 3135123), ('198', 'Aruba', 'North America', 106445, 100341, 89101, 65712, 62267), ('55', 'Australia', 'Oceania', 26177413, 22019168, 19017963, 17048003, 14706322), ('99', 'Austria', 'Europe', 8939617, 8362829, 8010428, 7678729, 7547561), ('91', 'Azerbaijan', 'Asia', 10358074, 9237202, 8190337, 7427836, 6383060), ('176', 'Bahamas', 'North America', 409984, 373272, 325014, 270679, 223752), ('154', 'Bahrain', 'Asia', 1472233, 1213645, 711442, 517418, 362595), ('8', 'Bangladesh', 'Asia', 171186372, 148391139, 129193327, 107147651, 83929765), ('186', 'Barbados', 'North America', 281635, 274711, 264657, 258868, 253575), ('96', 'Belarus', 'Europe', 9534954, 9731427, 10256483, 10428525, 9817257), ('81', 'Belgium', 'Europe', 11655930, 10877947, 10264343, 9959560, 9828986), ('177', 'Belize', 'North America', 405272, 322106, 240406, 182589, 145133), ('77', 'Benin', 'Africa', 13352864, 9445710, 6998023, 5133419, 3833939), ('206', 'Bermuda', 'North America', 64184, 63447, 61371, 57470, 53565), ('165', 'Bhutan', 'Asia', 782455, 705516, 587207, 558442, 415257), ('80', 'Bolivia', 'South America', 12224110, 10223270, 8592656, 7096194, 5736088), ('137', 'Bosnia and Herzegovina', 'Europe', 3233526, 3811088, 4179350, 4494310, 4199820), ('144', 'Botswana', 'Africa', 2630296, 2091664, 1726985, 1341474, 938578), ('7', 'Brazil', 'South America', 215313498, 196353492, 175873720, 150706446, 122288383), ('221', 'British Virgin Islands', 'North America', 31305, 27556, 20104, 15617, 11109), ('175', 'Brunei', 'Asia', 449002, 396053, 333926, 261928, 187921), ('108', 'Bulgaria', 'Europe', 6781953, 7592273, 8097691, 8767778, 8980606), ('58', 'Burkina Faso', 'Africa', 22673762, 16116845, 11882888, 9131361, 6932967), ('78', 'Burundi', 'Africa', 12889576, 9126605, 6307659, 5483793, 4312834), ('73', 'Cambodia', 'Asia', 16767842, 14363532, 12118841, 8910808, 6198959), ('53', 'Cameroon', 'Africa', 27914536, 19878036, 15091594, 11430520, 8519891), ('39', 'Canada', 'North America', 38454327, 33963412, 30683313, 27657204, 24511510), ('171', 'Cape Verde', 'Africa', 593149, 521212, 458251, 364563, 317234), ('205', 'Cayman Islands', 'North America', 68706, 54074, 39658, 26027, 17100), ('117', 'Central African Republic', 'Africa', 5579144, 4660067, 3759170, 2809221, 2415276), ('69', 'Chad', 'Africa', 17723315, 11894727, 8259137, 5827069, 4408230), ('65', 'Chile', 'South America', 19603733, 17004162, 15351799, 13342868, 11469828), ('1', 'China', 'Asia', 1425887337, 1348191368, 1264099069, 1153704252, 982372466), ('28', 'Colombia', 'South America', 51874024, 44816108, 39215135, 32601393, 26176195), ('163', 'Comoros', 'Africa', 836774, 656024, 536758, 431119, 328328), ('223', 'Cook Islands', 'Oceania', 17011, 17212, 15897, 17123, 17651), ('124', 'Costa Rica', 'North America', 5180829, 4622252, 3979193, 3158253, 2414303), ('130', 'Croatia', 'Europe', 4030358, 4368682, 4548434, 4873707, 4680144), ('85', 'Cuba', 'North America', 11212191, 11290417, 11105791, 10626680, 9809107), ('189', 'Curacao', 'North America', 191163, 159380, 141424, 155446, 156851), ('158', 'Cyprus', 'Europe', 1251488, 1129686, 948237, 788500, 679327), ('88', 'Czech Republic', 'Europe', 10493986, 10464749, 10234710, 10301192, 10270060), ('115', 'Denmark', 'Europe', 5882261, 5550849, 5340655, 5144623, 5125392), ('160', 'Djibouti', 'Africa', 1120849, 919199, 742033, 577173, 324121), ('204', 'Dominica', 'North America', 72737, 68755, 68346, 69481, 72978), ('84', 'Dominican Republic', 'North America', 11228821, 9775755, 8540791, 7129004, 5755800), ('15', 'DR Congo', 'Africa', 99010212, 66391257, 48616317, 35987541, 26708686), ('67', 'Ecuador', 'South America', 18001000, 14989585, 12626507, 10449837, 8135845), ('14', 'Egypt', 'Africa', 110990103, 87252413, 71371371, 57214630, 43748556), ('112', 'El Salvador', 'North America', 6336392, 6114034, 5958482, 5367179, 4508992), ('152', 'Equatorial Guinea', 'Africa', 1674908, 1094524, 684977, 465549, 282509), ('132', 'Eritrea', 'Africa', 3684032, 3147727, 2392880, 2149960, 1657982), ('156', 'Estonia', 'Europe', 1326062, 1331535, 1396877, 1570674, 1476983), ('159', 'Eswatini', 'Africa', 1201670, 1099920, 1030496, 854011, 598564), ('12', 'Ethiopia', 'Africa', 123379924, 89237791, 67031867, 47878073, 34945469), ('231', 'Falkland Islands', 'South America', 3780, 3187, 3080, 2332, 2240), ('209', 'Faroe Islands', 'Europe', 53090, 48410, 45660, 47479, 43054), ('162', 'Fiji', 'Oceania', 929766, 905169, 832509, 780430, 644582), ('118', 'Finland', 'Europe', 5540745, 5363271, 5176209, 4986545, 4779418), ('23', 'France', 'Europe', 64626628, 62444567, 58665453, 56412897, 53713830), ('184', 'French Guiana', 'South America', 304557, 228453, 164351, 113931, 66825), ('183', 'French Polynesia', 'Oceania', 306279, 283788, 250927, 211089, 163591), ('146', 'Gabon', 'Africa', 2388992, 1711105, 1272935, 983028, 749078), ('142', 'Gambia', 'Africa', 2705992, 1937275, 1437539, 1040616, 718586), ('131', 'Georgia', 'Asia', 3744385, 3836831, 4265172, 5391636, 5145843), ('19', 'Germany', 'Europe', 83369843, 81325090, 81551677, 79370196, 77786703), ('47', 'Ghana', 'Africa', 33475870, 25574719, 19665502, 15446982, 11865246), ('219', 'Gibraltar', 'Europe', 32649, 31262, 27741, 27317, 28734), ('90', 'Greece', 'Europe', 10384971, 11033783, 11038109, 10302255, 9307148), ('208', 'Greenland', 'North America', 56466, 56351, 56184, 55599, 50106), ('193', 'Grenada', 'North America', 125438, 114039, 107432, 99047, 94838), ('178', 'Guadeloupe', 'North America', 395752, 403072, 424067, 391951, 334234), ('191', 'Guam', 'Oceania', 171774, 164905, 160188, 138263, 110286), ('68', 'Guatemala', 'North America', 17843908, 14543121, 11735894, 9084780, 6987767), ('207', 'Guernsey', 'Europe', 63301, 60782, 59114, 57727, 52860), ('75', 'Guinea', 'Africa', 13859341, 10270728, 8336967, 6354145, 4972609), ('149', 'Guinea-Bissau', 'Africa', 2105566, 1567220, 1230849, 973551, 831462), ('164', 'Guyana', 'South America', 808726, 747932, 759051, 747116, 778176), ('82', 'Haiti', 'North America', 11584996, 9842880, 8360225, 6925331, 5646676), ('89', 'Honduras', 'North America', 10432860, 8450933, 6656725, 5053234, 3777990), ('104', 'Hong Kong', 'Asia', 7488865, 7132438, 6731195, 5838574, 4978544), ('94', 'Hungary', 'Europe', 9967308, 9986825, 10202055, 10375989, 10698679), ('179', 'Iceland', 'Europe', 372899, 318333, 281462, 255019, 228263), ('2', 'India', 'Asia', 1417173173, 1240613620, 1059633675, 870452165, 696828385), ('4', 'Indonesia', 'Asia', 275501339, 244016173, 214072421, 182159874, 148177096), ('17', 'Iran', 'Asia', 88550570, 75373855, 65544383, 55793629, 38520664), ('35', 'Iraq', 'Asia', 44496122, 31264875, 24628858, 17658381, 13653369), ('125', 'Ireland', 'Europe', 5023109, 4524585, 3768950, 3485374, 3391387), ('202', 'Isle of Man', 'Europe', 84519, 83828, 75562, 68865, 64022), ('98', 'Israel', 'Asia', 9038309, 7328445, 6116958, 4803254, 3744608), ('25', 'Italy', 'Europe', 59037474, 59822450, 56966397, 56756561, 56329482), ('52', 'Ivory Coast', 'Africa', 28160542, 21120042, 16799670, 11910540, 8303809), ('139', 'Jamaica', 'North America', 2827377, 2733896, 2612205, 2392030, 2135546), ('11', 'Japan', 'Asia', 123951692, 128105431, 126803861, 123686321, 117624196), ('195', 'Jersey', 'Europe', 110778, 96151, 86192, 82874, 75124), ('83', 'Jordan', 'Asia', 11285869, 6931258, 5056174, 3480587, 2216903), ('66', 'Kazakhstan', 'Asia', 19397998, 16627837, 15236253, 16866563, 14172710), ('27', 'Kenya', 'Africa', 54027487, 41517895, 30851606, 23162269, 16187124), ('192', 'Kiribati', 'Oceania', 131232, 107995, 88826, 75124, 60813), ('129', 'Kuwait', 'Asia', 4268873, 2943356, 1934901, 1674938, 1493870), ('110', 'Kyrgyzstan', 'Asia', 6630623, 5483774, 4935182, 4394734, 3691209), ('103', 'Laos', 'Asia', 7529475, 6323418, 5430853, 4314443, 3297519), ('151', 'Latvia', 'Europe', 1850651, 2101530, 2392530, 2689391, 2572037), ('119', 'Lebanon', 'Asia', 5489739, 4995800, 4320642, 3593700, 2963702), ('147', 'Lesotho', 'Africa', 2305825, 2022747, 1998630, 1798997, 1407672), ('121', 'Liberia', 'Africa', 5302681, 4019956, 2895224, 2209731, 1932169), ('107', 'Libya', 'Africa', 6812341, 6491988, 5154790, 4236983, 2962720), ('216', 'Liechtenstein', 'Europe', 39327, 35926, 33026, 28765, 25003), ('141', 'Lithuania', 'Europe', 2750055, 3139019, 3599637, 3785847, 3521206), ('168', 'Luxembourg', 'Europe', 647599, 507070, 435628, 381267, 363741), ('167', 'Macau', 'Asia', 695168, 557297, 431896, 350227, 245332), ('50', 'Madagascar', 'Africa', 29611714, 21731053, 16216431, 11882762, 8948162), ('62', 'Malawi', 'Africa', 20405317, 14718422, 11229387, 9539665, 6267369), ('45', 'Malaysia', 'Asia', 33938221, 28717731, 22945150, 17517054, 13215707), ('174', 'Maldives', 'Asia', 523787, 361575, 282507, 224957, 164887), ('59', 'Mali', 'Africa', 22593590, 15529181, 11239101, 8945026, 7372581), ('173', 'Malta', 'Europe', 533286, 418755, 399212, 365392, 333587), ('215', 'Marshall Islands', 'Oceania', 41569, 53416, 54224, 46047, 31988), ('180', 'Martinique', 'North America', 367507, 392181, 432543, 374271, 333786), ('126', 'Mauritania', 'Africa', 4736139, 3419461, 2695003, 2006027, 1506694), ('157', 'Mauritius', 'Africa', 1299469, 1283330, 1215930, 1090290, 954865), ('182', 'Mayotte', 'Africa', 326101, 211786, 159215, 92659, 52233), ('10', 'Mexico', 'North America', 127504125, 112532401, 97873442, 81720428, 67705186), ('194', 'Micronesia', 'Oceania', 114164, 107588, 111709, 98603, 76299), ('135', 'Moldova', 'Europe', 3272996, 3678186, 4251573, 4480199, 4103240), ('217', 'Monaco', 'Europe', 36469, 33178, 32465, 30329, 27076), ('134', 'Mongolia', 'Asia', 3398366, 2702520, 2450979, 2161433, 1697780), ('169', 'Montenegro', 'Europe', 627082, 631044, 633324, 621442, 589324), ('230', 'Montserrat', 'North America', 4390, 4938, 5138, 10805, 11452), ('40', 'Morocco', 'Africa', 37457971, 32464865, 28554415, 24570814, 19678444), ('48', 'Mozambique', 'Africa', 32969517, 23073723, 17768505, 13303459, 11413587), ('26', 'Myanmar', 'Asia', 54179306, 49390988, 45538332, 40099553, 33465781), ('145', 'Namibia', 'Africa', 2567012, 2099271, 1819141, 1369011, 975994), ('225', 'Nauru', 'Oceania', 12668, 10241, 10377, 9598, 7635), ('49', 'Nepal', 'Asia', 30547580, 27161567, 24559500, 19616530, 15600442), ('71', 'Netherlands', 'Europe', 17564014, 16617116, 15899135, 14944548, 14130387), ('185', 'New Caledonia', 'Oceania', 289950, 261426, 221537, 177264, 148599), ('123', 'New Zealand', 'Oceania', 5185288, 4346338, 3855266, 3397389, 3147168), ('106', 'Nicaragua', 'North America', 6948392, 5855734, 5123222, 4227820, 3303309), ('54', 'Niger', 'Africa', 26207977, 16647543, 11622665, 8370647, 6173177), ('6', 'Nigeria', 'Africa', 218541212, 160952853, 122851984, 95214257, 72951439), ('232', 'Niue', 'Oceania', 1934, 1812, 2074, 2533, 3637), ('56', 'North Korea', 'Asia', 26069416, 24686435, 23367059, 20799523, 17973650), ('150', 'North Macedonia', 'Europe', 2093599, 2093828, 2037936, 2044174, 1907023), ('210', 'Northern Mariana Islands', 'Oceania', 49551, 54087, 80338, 48002, 17613), ('120', 'Norway', 'Europe', 5434319, 4889741, 4491202, 4241636, 4085776), ('127', 'Oman', 'Asia', 4576298, 2881914, 2344253, 1804524, 1017462), ('5', 'Pakistan', 'Asia', 235824862, 194454498, 154369924, 115414069, 80624057), ('222', 'Palau', 'Oceania', 18055, 18540, 19726, 15293, 12252), ('122', 'Palestine', 'Asia', 5250072, 3992278, 3139954, 2124609, 1453620), ('128', 'Panama', 'North America', 4408581, 3623617, 3001731, 2449968, 1956987), ('93', 'Papua New Guinea', 'Oceania', 10142619, 7583269, 5508297, 3864972, 3104788), ('109', 'Paraguay', 'South America', 6780744, 5768613, 5123819, 4059195, 3078912), ('44', 'Peru', 'South America', 34049588, 29229572, 26654439, 22109099, 17492406), ('13', 'Philippines', 'Asia', 115559009, 94636700, 77958223, 61558898, 48419546), ('37', 'Poland', 'Europe', 39857145, 38597353, 38504431, 38064255, 35521429), ('92', 'Portugal', 'Europe', 10270865, 10588401, 10300626, 10007346, 9785252), ('136', 'Puerto Rico', 'North America', 3252407, 3717922, 3827108, 3543776, 3214568), ('143', 'Qatar', 'Asia', 2695122, 1713504, 645937, 441675, 277450), ('114', 'Republic of the Congo', 'Africa', 5970424, 4437884, 3134030, 2385435, 1829256), ('161', 'Reunion', 'Africa', 974052, 890130, 785424, 658992, 551674), ('64', 'Romania', 'Europe', 19659267, 20335211, 21919876, 22836234, 22125224), ('9', 'Russia', 'Europe', 144713314, 143242599, 146844839, 148005704, 138257420), ('76', 'Rwanda', 'Africa', 13776698, 10309031, 8109989, 7319962, 5247532), ('228', 'Saint Barthelemy', 'North America', 10967, 8988, 7082, 5168, 2983), ('211', 'Saint Kitts and Nevis', 'North America', 47657, 47403, 45461, 40636, 43097), ('190', 'Saint Lucia', 'North America', 179857, 170935, 159500, 142301, 121633), ('220', 'Saint Martin', 'North America', 31791, 36458, 29610, 28127, 7776), ('229', 'Saint Pierre and Miquelon', 'North America', 5862, 6052, 6274, 6324, 6106), ('199', 'Saint Vincent and the Grenadines', 'North America', 103948, 109308, 113813, 112487, 107480), ('188', 'Samoa', 'Oceania', 222382, 194672, 184008, 168186, 164905), ('218', 'San Marino', 'Europe', 33660, 31608, 26823, 23132, 21346), ('187', 'Sao Tome and Principe', 'Africa', 227380, 182138, 143714, 120343, 97210), ('41', 'Saudi Arabia', 'Asia', 36408820, 29411929, 21547390, 16004763, 10171710), ('72', 'Senegal', 'Africa', 17316449, 12530121, 9704287, 7536001, 5703869), ('105', 'Serbia', 'Europe', 7221365, 7653748, 7935022, 7987529, 7777010), ('196', 'Seychelles', 'Africa', 107118, 92409, 80060, 71057, 65290), ('102', 'Sierra Leone', 'Africa', 8605718, 6436698, 4584067, 4325388, 3367477), ('113', 'Singapore', 'Asia', 5975689, 5163590, 4053602, 3022209, 2400729), ('214', 'Sint Maarten', 'North America', 44175, 33034, 30489, 27845, 12243), ('116', 'Slovakia', 'Europe', 5643453, 5396424, 5376690, 5261305, 4973883), ('148', 'Slovenia', 'Europe', 2119844, 2057286, 1984339, 1986024, 1901570), ('166', 'Solomon Islands', 'Oceania', 724273, 540394, 429978, 324171, 233668), ('70', 'Somalia', 'Africa', 17597511, 12026649, 8721465, 6999096, 5892224), ('24', 'South Africa', 'Africa', 59893885, 51784921, 46813266, 39877570, 29463549), ('29', 'South Korea', 'Asia', 51815810, 48813042, 46788591, 44120039, 38170501), ('86', 'South Sudan', 'Africa', 10913164, 9714419, 6114440, 4750817, 4192011), ('30', 'Spain', 'Europe', 47558630, 46572772, 40741651, 38889889, 37491666), ('61', 'Sri Lanka', 'Asia', 21832143, 20668557, 18776371, 17204094, 14943645), ('32', 'Sudan', 'Africa', 46874204, 33739933, 26298773, 21090886, 16673586), ('170', 'Suriname', 'South America', 618040, 546080, 478998, 412756, 375112), ('87', 'Sweden', 'Europe', 10549347, 9381729, 8871043, 8548406, 8311763), ('101', 'Switzerland', 'Europe', 8740472, 7822435, 7182059, 6711693, 6319113), ('60', 'Syria', 'Asia', 22125249, 22337563, 16307654, 12408996, 8898954), ('57', 'Taiwan', 'Asia', 23893394, 23083083, 22194731, 20586174, 18100281), ('95', 'Tajikistan', 'Asia', 9952787, 7621779, 6272998, 5417860, 4045965), ('22', 'Tanzania', 'Africa', 65497748, 45110527, 34463704, 26206012, 19297659), ('20', 'Thailand', 'Asia', 71697030, 68270489, 63066603, 55228410, 45737753), ('155', 'Timor-Leste', 'Asia', 1341296, 1088486, 878360, 758106, 642224), ('100', 'Togo', 'Africa', 8848699, 6571855, 5008035, 3875947, 2838110), ('233', 'Tokelau', 'Oceania', 1871, 1367, 1666, 1669, 1647), ('197', 'Tonga', 'Oceania', 106858, 107383, 102603, 98727, 96708), ('153', 'Trinidad and Tobago', 'North America', 1531044, 1410296, 1332203, 1266518, 1127852), ('79', 'Tunisia', 'Africa', 12356117, 10895063, 9893316, 8440023, 6578156), ('18', 'Turkey', 'Asia', 85341241, 73195345, 64113547, 54324142, 44089069), ('111', 'Turkmenistan', 'Asia', 6430770, 5267970, 4569132, 3720278, 2862903), ('212', 'Turks and Caicos Islands', 'North America', 45703, 29726, 18744, 11709, 7598), ('227', 'Tuvalu', 'Oceania', 11312, 10550, 9638, 9182, 7731), ('31', 'Uganda', 'Africa', 47249585, 32341728, 24020697, 17586630, 13284026), ('38', 'Ukraine', 'Europe', 39701739, 45683020, 48879755, 51589817, 49973920), ('97', 'United Arab Emirates', 'Asia', 9441129, 8481771, 3275333, 1900151, 1014048), ('21', 'United Kingdom', 'Europe', 67508936, 62760039, 58850043, 57210442, 56326328), ('3', 'United States', 'North America', 338289857, 311182845, 282398554, 248083732, 223140018), ('200', 'United States Virgin Islands', 'North America', 99465, 106142, 108185, 100685, 96640), ('133', 'Uruguay', 'South America', 3422794, 3352651, 3292224, 3117012, 2953750), ('43', 'Uzbekistan', 'Asia', 34627652, 28614227, 24925554, 20579100, 15947129), ('181', 'Vanuatu', 'Oceania', 326740, 245453, 192074, 150882, 118156), ('234', 'Vatican City', 'Europe', 510, 596, 651, 700, 733), ('51', 'Venezuela', 'South America', 28301696, 28715022, 24427729, 19750579, 15210443), ('16', 'Vietnam', 'Asia', 98186856, 87411012, 79001142, 66912613, 52968270), ('226', 'Wallis and Futuna', 'Oceania', 11572, 13142, 14723, 13454, 11315), ('172', 'Western Sahara', 'Africa', 575986, 413296, 270375, 178529, 116775), ('46', 'Yemen', 'Asia', 33696614, 24743946, 18628700, 13375121, 9204938), ('63', 'Zambia', 'Africa', 20017675, 13792086, 9891136, 7686401, 5720438), ('74', 'Zimbabwe', 'Africa', 16320537, 12839771, 11834676, 10113893, 7049926)]\n"
     ]
    }
   ],
   "source": [
    "#prueba de la función de lectura\n",
    "poblacion_mundial = lee_poblacion(\"world_population_datas.csv\")\n",
    "print(poblacion_mundial)"
   ]
  },
  {
   "cell_type": "markdown",
   "id": "4c44ccf8",
   "metadata": {},
   "source": [
    "Efectivamente, nos devuelve una lista de tuplas con todos los datos sobre variación de población que buscábamos."
   ]
  },
  {
   "cell_type": "markdown",
   "id": "ad268999",
   "metadata": {},
   "source": [
    "### FUNCIÓN DE TRANSFORMACIÓN"
   ]
  },
  {
   "cell_type": "markdown",
   "id": "30b7403d",
   "metadata": {},
   "source": [
    "Tenemos una categoría (continente) que contiene un conjunto finito de valores que se repite. Para conocer cuáles y cuántos son esos valores (cuántos continentes hay, en este caso) podemos aplicar una función de transformación.\n",
    "\n",
    "La idea es tomar los elementos en la columna \"Continent\" en una lista y transformar esta a un conjunto, de forma que no se repitan los valores."
   ]
  },
  {
   "cell_type": "code",
   "execution_count": 9,
   "id": "7a52e8c8",
   "metadata": {},
   "outputs": [],
   "source": [
    "def calcula_continentes(poblacion):\n",
    "    '''\n",
    "    Toma la lista de tuplas poblacion_mundial y extrae el elemento que corresponda al continente.\n",
    "    '''\n",
    "    lista_continentes = []\n",
    "    for tupla in poblacion_mundial:\n",
    "        continentes = tupla[2] #el elemento nº 2 de cada tupla es el continente.\n",
    "        lista_continentes.append(continentes)\n",
    "    lista_continentes = set(lista_continentes)\n",
    "    return lista_continentes"
   ]
  },
  {
   "cell_type": "code",
   "execution_count": 11,
   "id": "a525385d",
   "metadata": {},
   "outputs": [
    {
     "name": "stdout",
     "output_type": "stream",
     "text": [
      "{'Asia', 'South America', 'Africa', 'Europe', 'Oceania', 'North America'}\n",
      "El número total de continentes es 6\n"
     ]
    }
   ],
   "source": [
    "#prueba de la función\n",
    "continentes = calcula_continentes(poblacion_mundial)\n",
    "print(continentes)\n",
    "print(\"El número total de continentes es\", len(continentes))"
   ]
  },
  {
   "cell_type": "markdown",
   "id": "8af9cbcc",
   "metadata": {},
   "source": [
    "Se observa que contamos con seis continentes porque el creador del archivo ha considerado separar América del Norte y América del Sur."
   ]
  },
  {
   "cell_type": "markdown",
   "id": "40832518",
   "metadata": {},
   "source": [
    "### FUNCIÓN DE FILTRADO"
   ]
  },
  {
   "cell_type": "markdown",
   "id": "603358a2",
   "metadata": {},
   "source": [
    "También podemos aplicar una función que nos devuelva solo los países que cumplan alguna característica; por ejemplo, que su población sea superior a un número o que se encuentren en un continente determinado. Empecemos por esta última."
   ]
  },
  {
   "cell_type": "code",
   "execution_count": 17,
   "id": "42efe3ce",
   "metadata": {},
   "outputs": [],
   "source": [
    "def filtra_por_continente(poblacion, continente):\n",
    "    filtrados = [(b) for a, b, c, d, e, f, g, h in poblacion_mundial if c in continente]\n",
    "    return filtrados"
   ]
  },
  {
   "cell_type": "code",
   "execution_count": 19,
   "id": "efe0a355",
   "metadata": {},
   "outputs": [
    {
     "name": "stdout",
     "output_type": "stream",
     "text": [
      "Los países que pertenecen a Europa son los siguientes: ['Albania', 'Andorra', 'Austria', 'Belarus', 'Belgium', 'Bosnia and Herzegovina', 'Bulgaria', 'Croatia', 'Cyprus', 'Czech Republic', 'Denmark', 'Estonia', 'Faroe Islands', 'Finland', 'France', 'Germany', 'Gibraltar', 'Greece', 'Guernsey', 'Hungary', 'Iceland', 'Ireland', 'Isle of Man', 'Italy', 'Jersey', 'Latvia', 'Liechtenstein', 'Lithuania', 'Luxembourg', 'Malta', 'Moldova', 'Monaco', 'Montenegro', 'Netherlands', 'North Macedonia', 'Norway', 'Poland', 'Portugal', 'Romania', 'Russia', 'San Marino', 'Serbia', 'Slovakia', 'Slovenia', 'Spain', 'Sweden', 'Switzerland', 'Ukraine', 'United Kingdom', 'Vatican City']\n"
     ]
    }
   ],
   "source": [
    "#prueba de la función\n",
    "filtrado_por_continente = filtra_por_continente(poblacion_mundial, \"Europe\")\n",
    "print(\"Los países que pertenecen a Europa son los siguientes:\", filtrado_por_continente)"
   ]
  },
  {
   "cell_type": "markdown",
   "id": "07a28511",
   "metadata": {},
   "source": [
    "Apliquemos ahora una función que filtre según el número de habitantes del país en este año."
   ]
  },
  {
   "cell_type": "code",
   "execution_count": 20,
   "id": "07e5ddb0",
   "metadata": {},
   "outputs": [],
   "source": [
    "def filtra_por_habitantes_2022(poblacion, habitantes):\n",
    "    filtrados = [(b) for a, b, c, d, e, f, g, h in poblacion_mundial if d > int(habitantes)]\n",
    "    return filtrados"
   ]
  },
  {
   "cell_type": "code",
   "execution_count": 21,
   "id": "4aa72578",
   "metadata": {},
   "outputs": [
    {
     "name": "stdout",
     "output_type": "stream",
     "text": [
      "Los países cuya población supera los 10000000 son los siguientes: ['Bangladesh', 'Brazil', 'China', 'Egypt', 'Ethiopia', 'India', 'Indonesia', 'Japan', 'Mexico', 'Nigeria', 'Pakistan', 'Philippines', 'Russia', 'United States']\n"
     ]
    }
   ],
   "source": [
    "#prueba de la función\n",
    "filtrado_por_habitantes_2022 = filtra_por_habitantes_2022(poblacion_mundial, 100000000)\n",
    "print(\"Los países cuya población supera los 10000000 son los siguientes:\", filtrado_por_habitantes_2022)"
   ]
  },
  {
   "cell_type": "code",
   "execution_count": null,
   "id": "0c3c5d9c",
   "metadata": {},
   "outputs": [],
   "source": []
  }
 ],
 "metadata": {
  "kernelspec": {
   "display_name": "Python 3 (ipykernel)",
   "language": "python",
   "name": "python3"
  },
  "language_info": {
   "codemirror_mode": {
    "name": "ipython",
    "version": 3
   },
   "file_extension": ".py",
   "mimetype": "text/x-python",
   "name": "python",
   "nbconvert_exporter": "python",
   "pygments_lexer": "ipython3",
   "version": "3.9.12"
  }
 },
 "nbformat": 4,
 "nbformat_minor": 5
}
